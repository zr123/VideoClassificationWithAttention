{
 "cells": [
  {
   "cell_type": "code",
   "execution_count": null,
   "id": "cff5b231",
   "metadata": {},
   "outputs": [],
   "source": [
    "import tensorflow as tf\n",
    "import numpy as np\n",
    "from tensorflow.python.keras.models import Model\n",
    "from VCWA import Common"
   ]
  },
  {
   "cell_type": "code",
   "execution_count": null,
   "id": "e9feda3a",
   "metadata": {},
   "outputs": [],
   "source": [
    "test_datagen = tf.keras.preprocessing.image.ImageDataGenerator(\n",
    "    preprocessing_function=tf.keras.applications.resnet_v2.preprocess_input) #rescale=1./255)\n",
    "\n",
    "test_generator = test_datagen.flow_from_directory(\n",
    "        'D:/datasets/imagenette2/val',\n",
    "        target_size=(224, 224),\n",
    "        batch_size=16)"
   ]
  },
  {
   "cell_type": "code",
   "execution_count": null,
   "id": "afa59e2a",
   "metadata": {},
   "outputs": [],
   "source": [
    "basenet = tf.keras.applications.ResNet50V2()"
   ]
  },
  {
   "cell_type": "code",
   "execution_count": null,
   "id": "0f01de92",
   "metadata": {},
   "outputs": [],
   "source": [
    "X, y = test_generator.__getitem__(0)"
   ]
  },
  {
   "cell_type": "code",
   "execution_count": null,
   "id": "20727a8e",
   "metadata": {},
   "outputs": [],
   "source": [
    "heatmaps = Common.get_gradcam_attention(X, basenet, layer_name=\"conv5_block3_3_conv\")"
   ]
  },
  {
   "cell_type": "code",
   "execution_count": null,
   "id": "38b44d17",
   "metadata": {
    "scrolled": false
   },
   "outputs": [],
   "source": [
    "i = 0\n",
    "for i in range(heatmaps.shape[0]):\n",
    "    overlay = Common.combine_attention([heatmaps[i]])\n",
    "    combined_image = Common.overlay_attention(X[i], overlay)\n",
    "    Common.display_attention_maps(X[i], [combined_image, heatmaps[i]])"
   ]
  }
 ],
 "metadata": {
  "kernelspec": {
   "display_name": "Python 3 (ipykernel)",
   "language": "python",
   "name": "python3"
  },
  "language_info": {
   "codemirror_mode": {
    "name": "ipython",
    "version": 3
   },
   "file_extension": ".py",
   "mimetype": "text/x-python",
   "name": "python",
   "nbconvert_exporter": "python",
   "pygments_lexer": "ipython3",
   "version": "3.8.12"
  },
  "toc": {
   "base_numbering": 1,
   "nav_menu": {},
   "number_sections": true,
   "sideBar": true,
   "skip_h1_title": false,
   "title_cell": "Table of Contents",
   "title_sidebar": "Contents",
   "toc_cell": false,
   "toc_position": {},
   "toc_section_display": true,
   "toc_window_display": false
  },
  "varInspector": {
   "cols": {
    "lenName": 16,
    "lenType": 16,
    "lenVar": 40
   },
   "kernels_config": {
    "python": {
     "delete_cmd_postfix": "",
     "delete_cmd_prefix": "del ",
     "library": "var_list.py",
     "varRefreshCmd": "print(var_dic_list())"
    },
    "r": {
     "delete_cmd_postfix": ") ",
     "delete_cmd_prefix": "rm(",
     "library": "var_list.r",
     "varRefreshCmd": "cat(var_dic_list()) "
    }
   },
   "types_to_exclude": [
    "module",
    "function",
    "builtin_function_or_method",
    "instance",
    "_Feature"
   ],
   "window_display": false
  }
 },
 "nbformat": 4,
 "nbformat_minor": 5
}
