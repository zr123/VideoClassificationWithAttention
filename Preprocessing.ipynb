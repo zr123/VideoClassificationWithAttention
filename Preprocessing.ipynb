{
 "cells": [
  {
   "cell_type": "code",
   "execution_count": null,
   "id": "cabf97ba",
   "metadata": {},
   "outputs": [],
   "source": [
    "import tensorflow as tf\n",
    "from tensorflow.keras import Sequential\n",
    "import cv2\n",
    "import os.path\n",
    "import pandas as pd\n",
    "import numpy as np\n",
    "from tensorflow.keras import utils\n",
    "from sklearn.model_selection import train_test_split\n",
    "from tensorflow import keras\n",
    "import os\n",
    "import shutil"
   ]
  },
  {
   "cell_type": "code",
   "execution_count": null,
   "id": "6403ea89",
   "metadata": {},
   "outputs": [],
   "source": [
    "PROCESSED_IMAGE_HEIGHT = 128\n",
    "PROCESSED_IMAGE_WIDTH = 128\n",
    "DOWNSAMPLING_FRAMES = 40.0\n",
    "GRAYSCALE = True"
   ]
  },
  {
   "cell_type": "markdown",
   "id": "25958e3b",
   "metadata": {},
   "source": [
    "## Function Definitions"
   ]
  },
  {
   "cell_type": "code",
   "execution_count": null,
   "id": "7ab399b3",
   "metadata": {},
   "outputs": [],
   "source": [
    "def evaluate_dataset(path=\"D:\\datasets\\hmdb51_org\"):\n",
    "    df = pd.DataFrame()\n",
    "    for path, directories, files in os.walk(path):\n",
    "        for f in files:\n",
    "            df = df.append({\n",
    "                \"path\": path + \"\\\\\" + f,\n",
    "                \"filename\": f,\n",
    "                \"category\": path.split(\"\\\\\")[-1]},\n",
    "                ignore_index=True)\n",
    "    return df #paths, filenames, categories"
   ]
  },
  {
   "cell_type": "code",
   "execution_count": null,
   "id": "43c15375",
   "metadata": {},
   "outputs": [],
   "source": [
    "def downsample_video(video, frames = DOWNSAMPLING_FRAMES):\n",
    "    framecount = video.shape[0]\n",
    "    sampled_frames = np.arange(0, framecount, framecount / frames)\n",
    "    downsampled_video = [video[int(f)] for f in sampled_frames]\n",
    "    return np.array(downsampled_video)"
   ]
  },
  {
   "cell_type": "code",
   "execution_count": null,
   "id": "188a3d5c",
   "metadata": {},
   "outputs": [],
   "source": [
    "def preprocess_image(image, width=PROCESSED_IMAGE_WIDTH, height=PROCESSED_IMAGE_HEIGHT, grayscale=GRAYSCALE):\n",
    "    if grayscale:\n",
    "        image = cv2.cvtColor(image, cv2.COLOR_BGR2GRAY)\n",
    "    # resize\n",
    "    image = cv2.resize(image, (width, height,))\n",
    "    # reshape for keras\n",
    "    # image = image.reshape((height, width, 1))\n",
    "    # normalize\n",
    "    image = image / 255.0\n",
    "    return image#np.float32(image)"
   ]
  },
  {
   "cell_type": "code",
   "execution_count": null,
   "id": "7609b6a4",
   "metadata": {},
   "outputs": [],
   "source": [
    "def get_formatted_video(path):\n",
    "    cap = cv2.VideoCapture(path)\n",
    "    video = []\n",
    "    retval, image = cap.read()\n",
    "    while retval:\n",
    "        image = preprocess_image(image)\n",
    "        video.append(image)\n",
    "        retval, image = cap.read()\n",
    "    cap.release()\n",
    "    print(path + \" / frames \" + str(np.array(video).shape[0]))\n",
    "    video = downsample_video(np.array(video))\n",
    "    return video"
   ]
  },
  {
   "cell_type": "code",
   "execution_count": null,
   "id": "dd3df730",
   "metadata": {},
   "outputs": [],
   "source": [
    "def create_batch(X_paths, y, batch_size=16, grayscale=True):\n",
    "    for i in range(0, len(X_paths), batch_size):\n",
    "        X_batch = []\n",
    "        y_batch = []\n",
    "        for b in range(i, i+batch_size):\n",
    "            if b == len(X_paths):\n",
    "                break\n",
    "            X_batch.append(get_formatted_video(X_paths[b], grayscale=grayscale))\n",
    "            y_batch.append(y[b])\n",
    "\n",
    "        yield (np.array(X_batch), np.vstack(y_batch))"
   ]
  },
  {
   "cell_type": "code",
   "execution_count": null,
   "id": "c06e03a9",
   "metadata": {},
   "outputs": [],
   "source": [
    "def save_video(videoarray, filename):\n",
    "    frames, height, width = (videoarray.shape)[0:3]\n",
    "    if len(videoarray.shape) == 4:\n",
    "        out = cv2.VideoWriter(filename, cv2.VideoWriter_fourcc('M','J','P','G'), 10, (width, height))\n",
    "    else:\n",
    "        out = cv2.VideoWriter(filename, cv2.VideoWriter_fourcc('M','J','P','G'), 10, (width, height), 0) #grayscale\n",
    "    for frame in videoarray:\n",
    "        out.write(frame)\n",
    "    out.release()"
   ]
  },
  {
   "cell_type": "code",
   "execution_count": null,
   "id": "1be8444b",
   "metadata": {},
   "outputs": [],
   "source": [
    "def convert_to_path(dataset, directory):\n",
    "    for _, row in dataset.iterrows():\n",
    "    #for i in range(len(paths)):\n",
    "        os.makedirs(directory + str(row.category) + \"/\", exist_ok=True)\n",
    "        vid = get_formatted_video(row.path)\n",
    "        save_video(vid, directory + str(row.category) + \"/\" + row.filename)"
   ]
  },
  {
   "cell_type": "markdown",
   "id": "4a8eb86e",
   "metadata": {},
   "source": [
    "## Downlaod Dataset\n",
    "\n",
    "Needs wget and 7zip command line tools."
   ]
  },
  {
   "cell_type": "code",
   "execution_count": null,
   "id": "d785c361",
   "metadata": {},
   "outputs": [],
   "source": [
    "# download\n",
    "!wget https://serre-lab.clps.brown.edu/wp-content/uploads/2013/10/hmdb51_org.rar"
   ]
  },
  {
   "cell_type": "code",
   "execution_count": null,
   "id": "f89a67c9",
   "metadata": {},
   "outputs": [],
   "source": [
    "# extract\n",
    "!7z e hmdb51_org.rar -ohmdb51 -r &&"
   ]
  },
  {
   "cell_type": "code",
   "execution_count": null,
   "id": "615e4f55",
   "metadata": {},
   "outputs": [],
   "source": [
    "# extract nested archives\n",
    "!cd temp && 7z x *.rar -o../hmdb51"
   ]
  },
  {
   "cell_type": "code",
   "execution_count": null,
   "id": "c7d878ac",
   "metadata": {
    "scrolled": true
   },
   "outputs": [],
   "source": [
    "# cleanup\n",
    "shutil.rmtree(\"temp\")\n",
    "os.remove(\"hmdb51_org.rar\")"
   ]
  },
  {
   "cell_type": "markdown",
   "id": "b4ee9052",
   "metadata": {},
   "source": [
    "## Preprocess dataset"
   ]
  },
  {
   "cell_type": "code",
   "execution_count": null,
   "id": "68179e5e",
   "metadata": {},
   "outputs": [],
   "source": [
    "dataset = evaluate_dataset(\"hmdb51\")\n",
    "\n",
    "train, test = train_test_split(dataset, random_state=42)\n",
    "convert_to_path(train, \"train/\")\n",
    "convert_to_path(test, \"test/\")"
   ]
  },
  {
   "cell_type": "code",
   "execution_count": null,
   "id": "3716550e",
   "metadata": {},
   "outputs": [],
   "source": []
  }
 ],
 "metadata": {
  "kernelspec": {
   "display_name": "Python 3 (ipykernel)",
   "language": "python",
   "name": "python3"
  },
  "language_info": {
   "codemirror_mode": {
    "name": "ipython",
    "version": 3
   },
   "file_extension": ".py",
   "mimetype": "text/x-python",
   "name": "python",
   "nbconvert_exporter": "python",
   "pygments_lexer": "ipython3",
   "version": "3.9.6"
  },
  "toc": {
   "base_numbering": 1,
   "nav_menu": {},
   "number_sections": true,
   "sideBar": true,
   "skip_h1_title": false,
   "title_cell": "Table of Contents",
   "title_sidebar": "Contents",
   "toc_cell": false,
   "toc_position": {
    "height": "calc(100% - 180px)",
    "left": "10px",
    "top": "150px",
    "width": "384px"
   },
   "toc_section_display": true,
   "toc_window_display": true
  },
  "varInspector": {
   "cols": {
    "lenName": 16,
    "lenType": 16,
    "lenVar": 40
   },
   "kernels_config": {
    "python": {
     "delete_cmd_postfix": "",
     "delete_cmd_prefix": "del ",
     "library": "var_list.py",
     "varRefreshCmd": "print(var_dic_list())"
    },
    "r": {
     "delete_cmd_postfix": ") ",
     "delete_cmd_prefix": "rm(",
     "library": "var_list.r",
     "varRefreshCmd": "cat(var_dic_list()) "
    }
   },
   "types_to_exclude": [
    "module",
    "function",
    "builtin_function_or_method",
    "instance",
    "_Feature"
   ],
   "window_display": true
  }
 },
 "nbformat": 4,
 "nbformat_minor": 5
}
