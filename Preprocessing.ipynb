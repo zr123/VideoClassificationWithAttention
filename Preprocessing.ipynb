{
 "cells": [
  {
   "cell_type": "code",
   "execution_count": null,
   "id": "cabf97ba",
   "metadata": {},
   "outputs": [],
   "source": [
    "import Common\n",
    "from sklearn.model_selection import train_test_split\n",
    "import os\n",
    "import shutil\n",
    "from sklearn.preprocessing import LabelEncoder\n",
    "import pickle\n",
    "import pandas as pd"
   ]
  },
  {
   "cell_type": "markdown",
   "id": "4a8eb86e",
   "metadata": {},
   "source": [
    "## Downlaod hmdb51 Dataset\n",
    "\n",
    "Needs wget and 7zip command line tools."
   ]
  },
  {
   "cell_type": "code",
   "execution_count": null,
   "id": "d785c361",
   "metadata": {},
   "outputs": [],
   "source": [
    "# download\n",
    "!wget https://serre-lab.clps.brown.edu/wp-content/uploads/2013/10/hmdb51_org.rar"
   ]
  },
  {
   "cell_type": "code",
   "execution_count": null,
   "id": "f89a67c9",
   "metadata": {},
   "outputs": [],
   "source": [
    "# extract\n",
    "!7z e hmdb51_org.rar -otemp -r"
   ]
  },
  {
   "cell_type": "code",
   "execution_count": null,
   "id": "615e4f55",
   "metadata": {},
   "outputs": [],
   "source": [
    "# extract nested archives\n",
    "!cd temp && 7z x *.rar -o../hmdb51"
   ]
  },
  {
   "cell_type": "code",
   "execution_count": null,
   "id": "c7d878ac",
   "metadata": {
    "scrolled": true
   },
   "outputs": [],
   "source": [
    "# cleanup\n",
    "shutil.rmtree(\"temp\")\n",
    "os.remove(\"hmdb51_org.rar\")"
   ]
  },
  {
   "cell_type": "markdown",
   "id": "2bcf0f97",
   "metadata": {},
   "source": [
    "## Load/Eval Files"
   ]
  },
  {
   "cell_type": "code",
   "execution_count": null,
   "id": "074a0bcd",
   "metadata": {},
   "outputs": [],
   "source": [
    "dataset = Common.evaluate_dataset(\"D:/datasets/hmdb51_org\")\n",
    "split_df = Common.get_hmdb51_split()"
   ]
  },
  {
   "cell_type": "code",
   "execution_count": null,
   "id": "58a2c641",
   "metadata": {},
   "outputs": [],
   "source": [
    "data = dataset.merge(split_df, on=\"filename\")\n",
    "data"
   ]
  },
  {
   "cell_type": "markdown",
   "id": "d70e3473",
   "metadata": {},
   "source": [
    "## HMDB51: 25 Frames"
   ]
  },
  {
   "cell_type": "code",
   "execution_count": null,
   "id": "8a513a82",
   "metadata": {},
   "outputs": [],
   "source": [
    "# ~11 min\n",
    "Common.convert_dataset(data, \"D:/processed_datasets/hmdb51_vid25/\", downsampling_frames=25, save_as=\"video\")"
   ]
  },
  {
   "cell_type": "markdown",
   "id": "3d562d65",
   "metadata": {},
   "source": [
    "## Optflow"
   ]
  },
  {
   "cell_type": "code",
   "execution_count": null,
   "id": "c40d376a",
   "metadata": {},
   "outputs": [],
   "source": [
    "# load dataset to be converted to optflow\n",
    "processed_dataset = Common.evaluate_dataset(\"D:/processed_datasets/hmdb51_vid25/\")\n",
    "processed_dataset"
   ]
  },
  {
   "cell_type": "markdown",
   "id": "c20a943b",
   "metadata": {},
   "source": [
    "### Optflow: L=1"
   ]
  },
  {
   "cell_type": "code",
   "execution_count": null,
   "id": "b2c74d07",
   "metadata": {},
   "outputs": [],
   "source": [
    "# should run ~2 hours\n",
    "Common.convert_optflow_dataset(processed_dataset, \"D:/processed_datasets/hmdb51_optflowl1_npz25_int/\", L=1)"
   ]
  },
  {
   "cell_type": "markdown",
   "id": "3a4825d6",
   "metadata": {},
   "source": [
    "### Optflow: L=5"
   ]
  },
  {
   "cell_type": "code",
   "execution_count": null,
   "id": "81c23693",
   "metadata": {},
   "outputs": [],
   "source": [
    "# test int should run ~7 hours\n",
    "Common.convert_optflow_dataset(processed_dataset, \"D:/processed_datasets/hmdb51_optflowl5_npz25/\", L=5)"
   ]
  },
  {
   "cell_type": "markdown",
   "id": "b1115299",
   "metadata": {},
   "source": [
    "### Optflow: L=10"
   ]
  },
  {
   "cell_type": "code",
   "execution_count": null,
   "id": "f2ac86cc",
   "metadata": {},
   "outputs": [],
   "source": [
    "# test int should run ~11 hours ???\n",
    "Common.convert_optflow_dataset(processed_dataset, \"D:/processed_datasets/hmdb51_optflowl10_npz25/\", L=10)"
   ]
  }
 ],
 "metadata": {
  "kernelspec": {
   "display_name": "Python 3 (ipykernel)",
   "language": "python",
   "name": "python3"
  },
  "language_info": {
   "codemirror_mode": {
    "name": "ipython",
    "version": 3
   },
   "file_extension": ".py",
   "mimetype": "text/x-python",
   "name": "python",
   "nbconvert_exporter": "python",
   "pygments_lexer": "ipython3",
   "version": "3.8.10"
  },
  "toc": {
   "base_numbering": 1,
   "nav_menu": {},
   "number_sections": true,
   "sideBar": true,
   "skip_h1_title": false,
   "title_cell": "Table of Contents",
   "title_sidebar": "Contents",
   "toc_cell": false,
   "toc_position": {
    "height": "calc(100% - 180px)",
    "left": "10px",
    "top": "150px",
    "width": "384px"
   },
   "toc_section_display": true,
   "toc_window_display": true
  },
  "varInspector": {
   "cols": {
    "lenName": 16,
    "lenType": 16,
    "lenVar": 40
   },
   "kernels_config": {
    "python": {
     "delete_cmd_postfix": "",
     "delete_cmd_prefix": "del ",
     "library": "var_list.py",
     "varRefreshCmd": "print(var_dic_list())"
    },
    "r": {
     "delete_cmd_postfix": ") ",
     "delete_cmd_prefix": "rm(",
     "library": "var_list.r",
     "varRefreshCmd": "cat(var_dic_list()) "
    }
   },
   "position": {
    "height": "463.85px",
    "left": "1549px",
    "right": "20px",
    "top": "120px",
    "width": "351px"
   },
   "types_to_exclude": [
    "module",
    "function",
    "builtin_function_or_method",
    "instance",
    "_Feature"
   ],
   "window_display": true
  }
 },
 "nbformat": 4,
 "nbformat_minor": 5
}
