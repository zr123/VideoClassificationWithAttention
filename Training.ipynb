{
 "cells": [
  {
   "cell_type": "code",
   "execution_count": null,
   "id": "b4d3f24c",
   "metadata": {},
   "outputs": [],
   "source": [
    "import Models\n",
    "import Common\n",
    "from sklearn.preprocessing import LabelEncoder\n",
    "import tensorflow as tf\n",
    "import datetime\n",
    "from sklearn.model_selection import train_test_split\n",
    "from DatasetLoader import DatasetLoader\n",
    "\n",
    "%load_ext tensorboard"
   ]
  },
  {
   "cell_type": "code",
   "execution_count": null,
   "id": "ea53d400",
   "metadata": {},
   "outputs": [],
   "source": [
    "# experimental, see\n",
    "# https://silpara.medium.com/stop-tensorflow-from-consuming-all-the-gpu-memory-8bfda3de970d\n",
    "\n",
    "gpus = tf.config.list_physical_devices('GPU')\n",
    "for gpu in gpus:\n",
    "    print(\"Type: {}, name: {}\".format(gpu.name, gpu.device_type))\n",
    "    tf.config.experimental.set_memory_growth(gpu, True)"
   ]
  },
  {
   "cell_type": "markdown",
   "id": "5b692f8d",
   "metadata": {},
   "source": [
    "## Load Model"
   ]
  },
  {
   "cell_type": "markdown",
   "id": "0f7d80d7",
   "metadata": {},
   "source": [
    "### Fresh Model"
   ]
  },
  {
   "cell_type": "code",
   "execution_count": null,
   "id": "b8c164ba",
   "metadata": {},
   "outputs": [],
   "source": [
    "model = Models.create_2DCNN_MLP()"
   ]
  },
  {
   "cell_type": "code",
   "execution_count": null,
   "id": "7a0985f1",
   "metadata": {},
   "outputs": [],
   "source": [
    "model = Models.create_3DCNN()"
   ]
  },
  {
   "cell_type": "code",
   "execution_count": null,
   "id": "ffc51e54",
   "metadata": {},
   "outputs": [],
   "source": [
    "model = Models.create_LSTM()"
   ]
  },
  {
   "cell_type": "code",
   "execution_count": null,
   "id": "35d97d5d",
   "metadata": {},
   "outputs": [],
   "source": [
    "model = Models.create_Transfer_LSTM((40, 128, 128, 3))"
   ]
  },
  {
   "cell_type": "code",
   "execution_count": null,
   "id": "ca4b2de2",
   "metadata": {},
   "outputs": [],
   "source": [
    "model = Models.lstm_test((40, 128, 128, 3))"
   ]
  },
  {
   "cell_type": "markdown",
   "id": "49e86dd4",
   "metadata": {},
   "source": [
    "### Load existing model"
   ]
  },
  {
   "cell_type": "code",
   "execution_count": null,
   "id": "85853143",
   "metadata": {},
   "outputs": [],
   "source": [
    "model = tf.keras.models.load_model(\"models/2DCNN_MLP_grayscale\")"
   ]
  },
  {
   "cell_type": "markdown",
   "id": "253e01e6",
   "metadata": {},
   "source": [
    "## Training"
   ]
  },
  {
   "cell_type": "code",
   "execution_count": null,
   "id": "76442983",
   "metadata": {},
   "outputs": [],
   "source": [
    "train = Common.evaluate_dataset(\"dataset/train/\", shuffle=True)\n",
    "X_train = train.path\n",
    "y_train = tf.keras.utils.to_categorical(train.category, 51)"
   ]
  },
  {
   "cell_type": "code",
   "execution_count": null,
   "id": "3b937de1",
   "metadata": {},
   "outputs": [],
   "source": [
    "test = Common.evaluate_dataset(\"dataset\\\\test\\\\\")\n",
    "X_test = test.path\n",
    "y_test = tf.keras.utils.to_categorical(test.category, 51)"
   ]
  },
  {
   "cell_type": "code",
   "execution_count": null,
   "id": "aeca1cbc",
   "metadata": {},
   "outputs": [],
   "source": [
    "dsl = DatasetLoader(X_train, y_train, batch_size=16, proprocessing=\"InceptionResNetV2\")\n",
    "verify_dsl = DatasetLoader(X_test, y_test, batch_size=16, proprocessing=\"InceptionResNetV2\")"
   ]
  },
  {
   "cell_type": "code",
   "execution_count": null,
   "id": "b6254665",
   "metadata": {},
   "outputs": [],
   "source": [
    "log_dir = \"logs/fit/\" + datetime.datetime.now().strftime(\"%Y%m%d-%H%M%S\")\n",
    "tensorboard_callback = tf.keras.callbacks.TensorBoard(log_dir=log_dir, histogram_freq=1)"
   ]
  },
  {
   "cell_type": "code",
   "execution_count": null,
   "id": "d87fbfca",
   "metadata": {
    "scrolled": true
   },
   "outputs": [],
   "source": [
    "history = model.fit(\n",
    "    dsl, \n",
    "    validation_data=verify_dsl,\n",
    "    epochs=100,\n",
    "    validation_freq=10,\n",
    "    use_multiprocessing=True, \n",
    "    workers=4, \n",
    "    callbacks=[tensorboard_callback])"
   ]
  },
  {
   "cell_type": "code",
   "execution_count": null,
   "id": "5dc11463",
   "metadata": {},
   "outputs": [],
   "source": [
    "model.save(\"models/\" + model.name)"
   ]
  },
  {
   "cell_type": "code",
   "execution_count": null,
   "id": "4f530b7e",
   "metadata": {},
   "outputs": [],
   "source": [
    "%tensorboard --logdir logs/fit --port 6006 --host localhost"
   ]
  },
  {
   "cell_type": "code",
   "execution_count": null,
   "id": "c4c6cfff",
   "metadata": {},
   "outputs": [],
   "source": []
  }
 ],
 "metadata": {
  "kernelspec": {
   "display_name": "Python 3 (ipykernel)",
   "language": "python",
   "name": "python3"
  },
  "language_info": {
   "codemirror_mode": {
    "name": "ipython",
    "version": 3
   },
   "file_extension": ".py",
   "mimetype": "text/x-python",
   "name": "python",
   "nbconvert_exporter": "python",
   "pygments_lexer": "ipython3",
   "version": "3.8.12"
  },
  "toc": {
   "base_numbering": 1,
   "nav_menu": {},
   "number_sections": true,
   "sideBar": true,
   "skip_h1_title": false,
   "title_cell": "Table of Contents",
   "title_sidebar": "Contents",
   "toc_cell": false,
   "toc_position": {
    "height": "calc(100% - 180px)",
    "left": "10px",
    "top": "150px",
    "width": "384px"
   },
   "toc_section_display": true,
   "toc_window_display": true
  },
  "varInspector": {
   "cols": {
    "lenName": 16,
    "lenType": 16,
    "lenVar": 40
   },
   "kernels_config": {
    "python": {
     "delete_cmd_postfix": "",
     "delete_cmd_prefix": "del ",
     "library": "var_list.py",
     "varRefreshCmd": "print(var_dic_list())"
    },
    "r": {
     "delete_cmd_postfix": ") ",
     "delete_cmd_prefix": "rm(",
     "library": "var_list.r",
     "varRefreshCmd": "cat(var_dic_list()) "
    }
   },
   "position": {
    "height": "397.85px",
    "left": "1544px",
    "right": "20px",
    "top": "120px",
    "width": "356px"
   },
   "types_to_exclude": [
    "module",
    "function",
    "builtin_function_or_method",
    "instance",
    "_Feature"
   ],
   "window_display": true
  }
 },
 "nbformat": 4,
 "nbformat_minor": 5
}
