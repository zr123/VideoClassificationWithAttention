{
 "cells": [
  {
   "cell_type": "code",
   "execution_count": 1,
   "id": "a8f4b98b",
   "metadata": {},
   "outputs": [],
   "source": [
    "import tensorflow as tf\n",
    "import datetime\n",
    "import Models\n",
    "import AttentionModels\n",
    "import Common\n",
    "import VideoDataGenerator\n",
    "from sklearn import preprocessing\n",
    "from tensorflow.keras.utils import to_categorical"
   ]
  },
  {
   "cell_type": "markdown",
   "id": "c0a7b37b",
   "metadata": {},
   "source": [
    "## Prep"
   ]
  },
  {
   "cell_type": "code",
   "execution_count": 3,
   "id": "e9d38a98",
   "metadata": {},
   "outputs": [],
   "source": [
    "# chose split\n",
    "split_no = 1"
   ]
  },
  {
   "cell_type": "markdown",
   "id": "6044d0fd",
   "metadata": {},
   "source": [
    "### HMDB51 Video Data with 25 Frames"
   ]
  },
  {
   "cell_type": "code",
   "execution_count": 4,
   "id": "c0366252",
   "metadata": {},
   "outputs": [
    {
     "data": {
      "text/html": [
       "<div>\n",
       "<style scoped>\n",
       "    .dataframe tbody tr th:only-of-type {\n",
       "        vertical-align: middle;\n",
       "    }\n",
       "\n",
       "    .dataframe tbody tr th {\n",
       "        vertical-align: top;\n",
       "    }\n",
       "\n",
       "    .dataframe thead th {\n",
       "        text-align: right;\n",
       "    }\n",
       "</style>\n",
       "<table border=\"1\" class=\"dataframe\">\n",
       "  <thead>\n",
       "    <tr style=\"text-align: right;\">\n",
       "      <th></th>\n",
       "      <th>path</th>\n",
       "      <th>filename</th>\n",
       "      <th>category</th>\n",
       "      <th>split</th>\n",
       "    </tr>\n",
       "  </thead>\n",
       "  <tbody>\n",
       "    <tr>\n",
       "      <th>0</th>\n",
       "      <td>D:\\processed_datasets\\hmdb51_vid25\\brush_hair\\...</td>\n",
       "      <td>April_09_brush_hair_u_nm_np1_ba_goo_0.avi</td>\n",
       "      <td>0</td>\n",
       "      <td>1</td>\n",
       "    </tr>\n",
       "    <tr>\n",
       "      <th>1</th>\n",
       "      <td>D:\\processed_datasets\\hmdb51_vid25\\brush_hair\\...</td>\n",
       "      <td>April_09_brush_hair_u_nm_np1_ba_goo_1.avi</td>\n",
       "      <td>0</td>\n",
       "      <td>1</td>\n",
       "    </tr>\n",
       "    <tr>\n",
       "      <th>2</th>\n",
       "      <td>D:\\processed_datasets\\hmdb51_vid25\\brush_hair\\...</td>\n",
       "      <td>April_09_brush_hair_u_nm_np1_ba_goo_2.avi</td>\n",
       "      <td>0</td>\n",
       "      <td>1</td>\n",
       "    </tr>\n",
       "    <tr>\n",
       "      <th>3</th>\n",
       "      <td>D:\\processed_datasets\\hmdb51_vid25\\brush_hair\\...</td>\n",
       "      <td>atempting_to_brush_my_hair_brush_hair_u_nm_np2...</td>\n",
       "      <td>0</td>\n",
       "      <td>1</td>\n",
       "    </tr>\n",
       "    <tr>\n",
       "      <th>4</th>\n",
       "      <td>D:\\processed_datasets\\hmdb51_vid25\\brush_hair\\...</td>\n",
       "      <td>atempting_to_brush_my_hair_brush_hair_u_nm_np2...</td>\n",
       "      <td>0</td>\n",
       "      <td>1</td>\n",
       "    </tr>\n",
       "    <tr>\n",
       "      <th>...</th>\n",
       "      <td>...</td>\n",
       "      <td>...</td>\n",
       "      <td>...</td>\n",
       "      <td>...</td>\n",
       "    </tr>\n",
       "    <tr>\n",
       "      <th>6761</th>\n",
       "      <td>D:\\processed_datasets\\hmdb51_vid25\\wave\\winKen...</td>\n",
       "      <td>winKen_wave_u_cm_np1_ba_bad_0.avi</td>\n",
       "      <td>50</td>\n",
       "      <td>1</td>\n",
       "    </tr>\n",
       "    <tr>\n",
       "      <th>6762</th>\n",
       "      <td>D:\\processed_datasets\\hmdb51_vid25\\wave\\winKen...</td>\n",
       "      <td>winKen_wave_u_cm_np1_ri_bad_1.avi</td>\n",
       "      <td>50</td>\n",
       "      <td>1</td>\n",
       "    </tr>\n",
       "    <tr>\n",
       "      <th>6763</th>\n",
       "      <td>D:\\processed_datasets\\hmdb51_vid25\\wave\\_I_ll_...</td>\n",
       "      <td>_I_ll_Just_Wave_My_Hand__sung_by_Cornerstone_M...</td>\n",
       "      <td>50</td>\n",
       "      <td>1</td>\n",
       "    </tr>\n",
       "    <tr>\n",
       "      <th>6764</th>\n",
       "      <td>D:\\processed_datasets\\hmdb51_vid25\\wave\\_I_ll_...</td>\n",
       "      <td>_I_ll_Just_Wave_My_Hand__sung_by_Cornerstone_M...</td>\n",
       "      <td>50</td>\n",
       "      <td>1</td>\n",
       "    </tr>\n",
       "    <tr>\n",
       "      <th>6765</th>\n",
       "      <td>D:\\processed_datasets\\hmdb51_vid25\\wave\\_I_ll_...</td>\n",
       "      <td>_I_ll_Just_Wave_My_Hand__sung_by_Cornerstone_M...</td>\n",
       "      <td>50</td>\n",
       "      <td>1</td>\n",
       "    </tr>\n",
       "  </tbody>\n",
       "</table>\n",
       "<p>6766 rows × 4 columns</p>\n",
       "</div>"
      ],
      "text/plain": [
       "                                                   path  \\\n",
       "0     D:\\processed_datasets\\hmdb51_vid25\\brush_hair\\...   \n",
       "1     D:\\processed_datasets\\hmdb51_vid25\\brush_hair\\...   \n",
       "2     D:\\processed_datasets\\hmdb51_vid25\\brush_hair\\...   \n",
       "3     D:\\processed_datasets\\hmdb51_vid25\\brush_hair\\...   \n",
       "4     D:\\processed_datasets\\hmdb51_vid25\\brush_hair\\...   \n",
       "...                                                 ...   \n",
       "6761  D:\\processed_datasets\\hmdb51_vid25\\wave\\winKen...   \n",
       "6762  D:\\processed_datasets\\hmdb51_vid25\\wave\\winKen...   \n",
       "6763  D:\\processed_datasets\\hmdb51_vid25\\wave\\_I_ll_...   \n",
       "6764  D:\\processed_datasets\\hmdb51_vid25\\wave\\_I_ll_...   \n",
       "6765  D:\\processed_datasets\\hmdb51_vid25\\wave\\_I_ll_...   \n",
       "\n",
       "                                               filename  category split  \n",
       "0             April_09_brush_hair_u_nm_np1_ba_goo_0.avi         0     1  \n",
       "1             April_09_brush_hair_u_nm_np1_ba_goo_1.avi         0     1  \n",
       "2             April_09_brush_hair_u_nm_np1_ba_goo_2.avi         0     1  \n",
       "3     atempting_to_brush_my_hair_brush_hair_u_nm_np2...         0     1  \n",
       "4     atempting_to_brush_my_hair_brush_hair_u_nm_np2...         0     1  \n",
       "...                                                 ...       ...   ...  \n",
       "6761                  winKen_wave_u_cm_np1_ba_bad_0.avi        50     1  \n",
       "6762                  winKen_wave_u_cm_np1_ri_bad_1.avi        50     1  \n",
       "6763  _I_ll_Just_Wave_My_Hand__sung_by_Cornerstone_M...        50     1  \n",
       "6764  _I_ll_Just_Wave_My_Hand__sung_by_Cornerstone_M...        50     1  \n",
       "6765  _I_ll_Just_Wave_My_Hand__sung_by_Cornerstone_M...        50     1  \n",
       "\n",
       "[6766 rows x 4 columns]"
      ]
     },
     "execution_count": 4,
     "metadata": {},
     "output_type": "execute_result"
    }
   ],
   "source": [
    "dataset = Common.evaluate_dataset(\"D:/processed_datasets/hmdb51_vid25/\")\n",
    "split_df = Common.get_hmdb51_split(\"D:/datasets/hmdb51_org_splits\", split_no=split_no)\n",
    "hmdb51_video_dataset = dataset.merge(split_df, on=\"filename\")\n",
    "# encode y\n",
    "hmdb51_video_dataset.category = preprocessing.LabelEncoder().fit_transform(hmdb51_video_dataset.category)\n",
    "hmdb51_video_dataset"
   ]
  },
  {
   "cell_type": "markdown",
   "id": "87563a73",
   "metadata": {},
   "source": [
    "### HMDB51 OptFlow Data based on 25 Frames with L=1"
   ]
  },
  {
   "cell_type": "code",
   "execution_count": 5,
   "id": "00027316",
   "metadata": {},
   "outputs": [
    {
     "data": {
      "text/html": [
       "<div>\n",
       "<style scoped>\n",
       "    .dataframe tbody tr th:only-of-type {\n",
       "        vertical-align: middle;\n",
       "    }\n",
       "\n",
       "    .dataframe tbody tr th {\n",
       "        vertical-align: top;\n",
       "    }\n",
       "\n",
       "    .dataframe thead th {\n",
       "        text-align: right;\n",
       "    }\n",
       "</style>\n",
       "<table border=\"1\" class=\"dataframe\">\n",
       "  <thead>\n",
       "    <tr style=\"text-align: right;\">\n",
       "      <th></th>\n",
       "      <th>path</th>\n",
       "      <th>filename</th>\n",
       "      <th>category</th>\n",
       "      <th>split</th>\n",
       "    </tr>\n",
       "  </thead>\n",
       "  <tbody>\n",
       "    <tr>\n",
       "      <th>0</th>\n",
       "      <td>D:\\processed_datasets\\hmdb51_optflowl1_npz25\\b...</td>\n",
       "      <td>April_09_brush_hair_u_nm_np1_ba_goo_0.npz</td>\n",
       "      <td>brush_hair</td>\n",
       "      <td>1</td>\n",
       "    </tr>\n",
       "    <tr>\n",
       "      <th>1</th>\n",
       "      <td>D:\\processed_datasets\\hmdb51_optflowl1_npz25\\b...</td>\n",
       "      <td>April_09_brush_hair_u_nm_np1_ba_goo_1.npz</td>\n",
       "      <td>brush_hair</td>\n",
       "      <td>1</td>\n",
       "    </tr>\n",
       "    <tr>\n",
       "      <th>2</th>\n",
       "      <td>D:\\processed_datasets\\hmdb51_optflowl1_npz25\\b...</td>\n",
       "      <td>April_09_brush_hair_u_nm_np1_ba_goo_2.npz</td>\n",
       "      <td>brush_hair</td>\n",
       "      <td>1</td>\n",
       "    </tr>\n",
       "    <tr>\n",
       "      <th>3</th>\n",
       "      <td>D:\\processed_datasets\\hmdb51_optflowl1_npz25\\b...</td>\n",
       "      <td>atempting_to_brush_my_hair_brush_hair_u_nm_np2...</td>\n",
       "      <td>brush_hair</td>\n",
       "      <td>1</td>\n",
       "    </tr>\n",
       "    <tr>\n",
       "      <th>4</th>\n",
       "      <td>D:\\processed_datasets\\hmdb51_optflowl1_npz25\\b...</td>\n",
       "      <td>atempting_to_brush_my_hair_brush_hair_u_nm_np2...</td>\n",
       "      <td>brush_hair</td>\n",
       "      <td>1</td>\n",
       "    </tr>\n",
       "    <tr>\n",
       "      <th>...</th>\n",
       "      <td>...</td>\n",
       "      <td>...</td>\n",
       "      <td>...</td>\n",
       "      <td>...</td>\n",
       "    </tr>\n",
       "    <tr>\n",
       "      <th>6761</th>\n",
       "      <td>D:\\processed_datasets\\hmdb51_optflowl1_npz25\\w...</td>\n",
       "      <td>winKen_wave_u_cm_np1_ba_bad_0.npz</td>\n",
       "      <td>wave</td>\n",
       "      <td>1</td>\n",
       "    </tr>\n",
       "    <tr>\n",
       "      <th>6762</th>\n",
       "      <td>D:\\processed_datasets\\hmdb51_optflowl1_npz25\\w...</td>\n",
       "      <td>winKen_wave_u_cm_np1_ri_bad_1.npz</td>\n",
       "      <td>wave</td>\n",
       "      <td>1</td>\n",
       "    </tr>\n",
       "    <tr>\n",
       "      <th>6763</th>\n",
       "      <td>D:\\processed_datasets\\hmdb51_optflowl1_npz25\\w...</td>\n",
       "      <td>_I_ll_Just_Wave_My_Hand__sung_by_Cornerstone_M...</td>\n",
       "      <td>wave</td>\n",
       "      <td>1</td>\n",
       "    </tr>\n",
       "    <tr>\n",
       "      <th>6764</th>\n",
       "      <td>D:\\processed_datasets\\hmdb51_optflowl1_npz25\\w...</td>\n",
       "      <td>_I_ll_Just_Wave_My_Hand__sung_by_Cornerstone_M...</td>\n",
       "      <td>wave</td>\n",
       "      <td>1</td>\n",
       "    </tr>\n",
       "    <tr>\n",
       "      <th>6765</th>\n",
       "      <td>D:\\processed_datasets\\hmdb51_optflowl1_npz25\\w...</td>\n",
       "      <td>_I_ll_Just_Wave_My_Hand__sung_by_Cornerstone_M...</td>\n",
       "      <td>wave</td>\n",
       "      <td>1</td>\n",
       "    </tr>\n",
       "  </tbody>\n",
       "</table>\n",
       "<p>6766 rows × 4 columns</p>\n",
       "</div>"
      ],
      "text/plain": [
       "                                                   path  \\\n",
       "0     D:\\processed_datasets\\hmdb51_optflowl1_npz25\\b...   \n",
       "1     D:\\processed_datasets\\hmdb51_optflowl1_npz25\\b...   \n",
       "2     D:\\processed_datasets\\hmdb51_optflowl1_npz25\\b...   \n",
       "3     D:\\processed_datasets\\hmdb51_optflowl1_npz25\\b...   \n",
       "4     D:\\processed_datasets\\hmdb51_optflowl1_npz25\\b...   \n",
       "...                                                 ...   \n",
       "6761  D:\\processed_datasets\\hmdb51_optflowl1_npz25\\w...   \n",
       "6762  D:\\processed_datasets\\hmdb51_optflowl1_npz25\\w...   \n",
       "6763  D:\\processed_datasets\\hmdb51_optflowl1_npz25\\w...   \n",
       "6764  D:\\processed_datasets\\hmdb51_optflowl1_npz25\\w...   \n",
       "6765  D:\\processed_datasets\\hmdb51_optflowl1_npz25\\w...   \n",
       "\n",
       "                                               filename    category split  \n",
       "0             April_09_brush_hair_u_nm_np1_ba_goo_0.npz  brush_hair     1  \n",
       "1             April_09_brush_hair_u_nm_np1_ba_goo_1.npz  brush_hair     1  \n",
       "2             April_09_brush_hair_u_nm_np1_ba_goo_2.npz  brush_hair     1  \n",
       "3     atempting_to_brush_my_hair_brush_hair_u_nm_np2...  brush_hair     1  \n",
       "4     atempting_to_brush_my_hair_brush_hair_u_nm_np2...  brush_hair     1  \n",
       "...                                                 ...         ...   ...  \n",
       "6761                  winKen_wave_u_cm_np1_ba_bad_0.npz        wave     1  \n",
       "6762                  winKen_wave_u_cm_np1_ri_bad_1.npz        wave     1  \n",
       "6763  _I_ll_Just_Wave_My_Hand__sung_by_Cornerstone_M...        wave     1  \n",
       "6764  _I_ll_Just_Wave_My_Hand__sung_by_Cornerstone_M...        wave     1  \n",
       "6765  _I_ll_Just_Wave_My_Hand__sung_by_Cornerstone_M...        wave     1  \n",
       "\n",
       "[6766 rows x 4 columns]"
      ]
     },
     "execution_count": 5,
     "metadata": {},
     "output_type": "execute_result"
    }
   ],
   "source": [
    "dataset = Common.evaluate_dataset(\"D:/processed_datasets/hmdb51_optflowl1_npz25/\")\n",
    "split_df = Common.get_hmdb51_split(\"D:/datasets/hmdb51_org_splits\", split_no=split_no)\n",
    "# fix file type extensions\n",
    "split_df[\"filename\"] = split_df[\"filename\"].str.split(\".\", expand=True)[0] + \".npz\"\n",
    "hmdb51_optflow_dataset = dataset.merge(split_df, on=\"filename\")\n",
    "hmdb51_optflow_dataset"
   ]
  },
  {
   "cell_type": "markdown",
   "id": "03c0183c",
   "metadata": {},
   "source": [
    "### prepare VideoDataGenerator"
   ]
  },
  {
   "cell_type": "code",
   "execution_count": 6,
   "id": "467ec3b9",
   "metadata": {},
   "outputs": [],
   "source": [
    "train_gen = VideoDataGenerator.VideoDataGenerator(\n",
    "    hmdb51_video_dataset[hmdb51_video_dataset.split == 1].path.tolist(),\n",
    "    hmdb51_video_dataset[hmdb51_video_dataset.split == 1].category.tolist(),\n",
    "    num_classes = 51,\n",
    "    optflow_path=hmdb51_optflow_dataset[hmdb51_optflow_dataset.split == 1].path.tolist(),\n",
    "    batch_size=1,\n",
    "    target_size=(224, 224),\n",
    "    shear_range=0.2,\n",
    "    zoom_range=0.2,\n",
    "    horizontal_flip=True,\n",
    "    preprocessing_function=tf.keras.applications.resnet_v2.preprocess_input\n",
    ")"
   ]
  },
  {
   "cell_type": "code",
   "execution_count": 7,
   "id": "397abb3e",
   "metadata": {},
   "outputs": [],
   "source": [
    "test_gen = VideoDataGenerator.VideoDataGenerator(\n",
    "    hmdb51_video_dataset[hmdb51_video_dataset.split == 1].path.tolist(),\n",
    "    hmdb51_video_dataset[hmdb51_video_dataset.split == 1].category.tolist(),\n",
    "    num_classes = 51,\n",
    "    optflow_path=hmdb51_optflow_dataset[hmdb51_optflow_dataset.split == 1].path.tolist(),\n",
    "    batch_size=1,\n",
    "    preprocessing_function=tf.keras.applications.resnet_v2.preprocess_input\n",
    ")"
   ]
  },
  {
   "cell_type": "markdown",
   "id": "da298448",
   "metadata": {},
   "source": [
    "## TwoStream-Network (BaseResnet50v2)"
   ]
  },
  {
   "cell_type": "code",
   "execution_count": 11,
   "id": "2176d57e",
   "metadata": {},
   "outputs": [
    {
     "name": "stderr",
     "output_type": "stream",
     "text": [
      "C:\\tools\\Anaconda3\\envs\\attention-tf2-gpu\\lib\\site-packages\\tensorflow\\python\\keras\\applications\\imagenet_utils.py:331: UserWarning: This model usually expects 1 or 3 input channels. However, it was passed an input_shape with 2 input channels.\n",
      "  warnings.warn('This model usually expects 1 or 3 input channels. '\n"
     ]
    }
   ],
   "source": [
    "twostream_resnet50v2 = Models.create_TwoStreamModel(\n",
    "        input_shape=(None, 224, 224, 3),\n",
    "        optflow_shape=(None, 224, 224, 2),\n",
    "        classes=51\n",
    "    )"
   ]
  },
  {
   "cell_type": "code",
   "execution_count": 12,
   "id": "edcfb205",
   "metadata": {},
   "outputs": [
    {
     "name": "stdout",
     "output_type": "stream",
     "text": [
      "1/1 [==============================] - 0s 4ms/step - loss: 3.5257 - accuracy: 0.0000e+00 - top_k_categorical_accuracy: 0.0000e+00\n"
     ]
    },
    {
     "data": {
      "text/plain": [
       "<tensorflow.python.keras.callbacks.History at 0x25d7e5f9550>"
      ]
     },
     "execution_count": 12,
     "metadata": {},
     "output_type": "execute_result"
    }
   ],
   "source": [
    "log_dir = \"logs/fit_twostream_25_L1/resnet50v2_\" + datetime.datetime.now().strftime(\"%Y%m%d-%H%M%S\")\n",
    "tensorboard_callback = tf.keras.callbacks.TensorBoard(log_dir=log_dir, histogram_freq=1)\n",
    "\n",
    "twostream_resnet50v2.fit(\n",
    "    train_gen,\n",
    "    epochs=1,\n",
    "    validation_data=test_gen,\n",
    "    callbacks=[tensorboard_callback]\n",
    ")"
   ]
  },
  {
   "cell_type": "code",
   "execution_count": null,
   "id": "3c3d3882",
   "metadata": {},
   "outputs": [],
   "source": [
    "twostream_resnet50v2.save(\"models/twostream_25_L1/ResNet50v2\")"
   ]
  }
 ],
 "metadata": {
  "kernelspec": {
   "display_name": "Python 3 (ipykernel)",
   "language": "python",
   "name": "python3"
  },
  "language_info": {
   "codemirror_mode": {
    "name": "ipython",
    "version": 3
   },
   "file_extension": ".py",
   "mimetype": "text/x-python",
   "name": "python",
   "nbconvert_exporter": "python",
   "pygments_lexer": "ipython3",
   "version": "3.8.10"
  },
  "toc": {
   "base_numbering": 1,
   "nav_menu": {},
   "number_sections": true,
   "sideBar": true,
   "skip_h1_title": false,
   "title_cell": "Table of Contents",
   "title_sidebar": "Contents",
   "toc_cell": false,
   "toc_position": {},
   "toc_section_display": true,
   "toc_window_display": true
  },
  "varInspector": {
   "cols": {
    "lenName": 16,
    "lenType": 16,
    "lenVar": 40
   },
   "kernels_config": {
    "python": {
     "delete_cmd_postfix": "",
     "delete_cmd_prefix": "del ",
     "library": "var_list.py",
     "varRefreshCmd": "print(var_dic_list())"
    },
    "r": {
     "delete_cmd_postfix": ") ",
     "delete_cmd_prefix": "rm(",
     "library": "var_list.r",
     "varRefreshCmd": "cat(var_dic_list()) "
    }
   },
   "position": {
    "height": "291.85px",
    "left": "1554px",
    "right": "20px",
    "top": "120px",
    "width": "346px"
   },
   "types_to_exclude": [
    "module",
    "function",
    "builtin_function_or_method",
    "instance",
    "_Feature"
   ],
   "window_display": true
  }
 },
 "nbformat": 4,
 "nbformat_minor": 5
}
