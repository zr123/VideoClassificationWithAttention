{
 "cells": [
  {
   "cell_type": "code",
   "execution_count": null,
   "id": "2b4af6b6",
   "metadata": {},
   "outputs": [],
   "source": [
    "import tensorflow as tf"
   ]
  },
  {
   "cell_type": "markdown",
   "id": "005851fc",
   "metadata": {},
   "source": [
    "## Data prep"
   ]
  },
  {
   "cell_type": "markdown",
   "id": "b4b7c394",
   "metadata": {},
   "source": [
    "### Imagenette"
   ]
  },
  {
   "cell_type": "code",
   "execution_count": null,
   "id": "d80b2ed3",
   "metadata": {},
   "outputs": [],
   "source": [
    "train_datagen = tf.keras.preprocessing.image.ImageDataGenerator(\n",
    "    preprocessing_function=tf.keras.applications.resnet_v2.preprocess_input,\n",
    "    #rescale=1./255,\n",
    "    shear_range=0.2,\n",
    "    zoom_range=0.2,\n",
    "    horizontal_flip=True)\n",
    "\n",
    "train_generator = train_datagen.flow_from_directory(\n",
    "        'D:/datasets/imagenette2/train',\n",
    "        target_size=(224, 224),\n",
    "        batch_size=32)"
   ]
  },
  {
   "cell_type": "code",
   "execution_count": null,
   "id": "512e1451",
   "metadata": {},
   "outputs": [],
   "source": [
    "test_datagen = tf.keras.preprocessing.image.ImageDataGenerator(\n",
    "    preprocessing_function=tf.keras.applications.resnet_v2.preprocess_input) #rescale=1./255)\n",
    "\n",
    "test_generator = train_datagen.flow_from_directory(\n",
    "        'D:/datasets/imagenette2/val',\n",
    "        target_size=(224, 224),\n",
    "        batch_size=32)"
   ]
  },
  {
   "cell_type": "markdown",
   "id": "ae0c5775",
   "metadata": {},
   "source": [
    "### Altermative CIFAR-100"
   ]
  },
  {
   "cell_type": "code",
   "execution_count": null,
   "id": "82989f17",
   "metadata": {},
   "outputs": [],
   "source": [
    "(x_train, y_train), (x_test, y_test)= tf.keras.datasets.cifar100.load_data(label_mode=\"fine\")"
   ]
  },
  {
   "cell_type": "code",
   "execution_count": null,
   "id": "cc343f0e",
   "metadata": {},
   "outputs": [],
   "source": [
    "import Common\n",
    "\n",
    "def cifar100_helper_generator(x, y):\n",
    "    while True:\n",
    "        for i in range(0, len(x), 25):\n",
    "            yield (\n",
    "                Common.resize_video(x[i:i+25], (224, 224))/255. ,\n",
    "                tf.keras.utils.to_categorical(y[i:i+25], 100)\n",
    "            )"
   ]
  },
  {
   "cell_type": "markdown",
   "id": "8d7437e1",
   "metadata": {},
   "source": [
    "## Vanilla ResNet50v2"
   ]
  },
  {
   "cell_type": "code",
   "execution_count": null,
   "id": "46adb175",
   "metadata": {},
   "outputs": [],
   "source": [
    "resnet50 = tf.keras.applications.ResNet50V2(classes=10, weights=None)\n",
    "#resnet50 = tf.keras.applications.ResNet50V2(classes=100, weights=None)"
   ]
  },
  {
   "cell_type": "code",
   "execution_count": null,
   "id": "a30ac3c7",
   "metadata": {},
   "outputs": [],
   "source": [
    "resnet50.compile(loss=\"categorical_crossentropy\", optimizer=\"adam\", metrics=[\"accuracy\"])"
   ]
  },
  {
   "cell_type": "code",
   "execution_count": null,
   "id": "b3b4bbb7",
   "metadata": {},
   "outputs": [],
   "source": [
    "resnet50.fit(train_generator, epochs=5)\n",
    "#rsnet50.fit(cifar100_helper_generator(x_train, y_train), steps_per_epoch=2000, epochs=50)"
   ]
  },
  {
   "cell_type": "code",
   "execution_count": null,
   "id": "3a28dceb",
   "metadata": {},
   "outputs": [],
   "source": [
    "resnet50.evaluate(test_generator)\n",
    "#resnet50.evaluate(cifar100_helper_generator(x_test, y_test), steps=400)"
   ]
  },
  {
   "cell_type": "markdown",
   "id": "ecbf024c",
   "metadata": {},
   "source": [
    "## Attention"
   ]
  },
  {
   "cell_type": "markdown",
   "id": "7c32cf9c",
   "metadata": {},
   "source": [
    "### Training"
   ]
  },
  {
   "cell_type": "code",
   "execution_count": null,
   "id": "dd5bbac7",
   "metadata": {},
   "outputs": [],
   "source": [
    "import AttentionModels"
   ]
  },
  {
   "cell_type": "code",
   "execution_count": null,
   "id": "8938e0c3",
   "metadata": {},
   "outputs": [],
   "source": [
    "fit_model = AttentionModels.create_L2PA_ResNet50v2(input_shape=(224, 224, 3), num_classes=10)\n",
    "#fit_model = AttentionModels.create_L2PA_ResNet50v2(input_shape=(224, 224, 3), num_classes=100)"
   ]
  },
  {
   "cell_type": "code",
   "execution_count": null,
   "id": "657eda60",
   "metadata": {},
   "outputs": [],
   "source": [
    "fit_model.fit(train_generator, epochs=50)\n",
    "#fit_model.fit(cifar100_helper_generator(x_train, y_train), steps_per_epoch=2000, epochs=1)"
   ]
  },
  {
   "cell_type": "code",
   "execution_count": null,
   "id": "d99b1faf",
   "metadata": {},
   "outputs": [],
   "source": [
    "fit_model.evaluate(test_generator)\n",
    "#fit_model.evaluate(cifar100_helper_generator(x_test, y_test), steps=400)"
   ]
  },
  {
   "cell_type": "code",
   "execution_count": null,
   "id": "6dff1e7d",
   "metadata": {},
   "outputs": [],
   "source": [
    "fit_model.save(\"models/L2PA_resnet50v2\")"
   ]
  },
  {
   "cell_type": "markdown",
   "id": "ca465f7c",
   "metadata": {},
   "source": [
    "### Attention"
   ]
  },
  {
   "cell_type": "code",
   "execution_count": null,
   "id": "eb135dcb",
   "metadata": {},
   "outputs": [],
   "source": [
    "import matplotlib.pyplot as plt\n",
    "from matplotlib import cm\n",
    "\n",
    "extractor = AttentionModels.get_attention_extractor(fit_model)"
   ]
  },
  {
   "cell_type": "code",
   "execution_count": null,
   "id": "a66e24e1",
   "metadata": {},
   "outputs": [],
   "source": [
    "X, Y = next(test_generator)\n",
    "#X, Y = next(cifar100_helper_generator(x_test, y_test))\n",
    "prediction, a1, a2, a3 = extractor.predict(X)"
   ]
  },
  {
   "cell_type": "code",
   "execution_count": null,
   "id": "01adbbcf",
   "metadata": {},
   "outputs": [],
   "source": [
    "i = 19\n",
    "fig, ax = plt.subplots(1, 4, figsize=(20, 20))\n",
    "ax[0].imshow(X[i]/2 +0.5)\n",
    "ax[1].imshow(a1[i], interpolation='nearest', cmap=cm.inferno)\n",
    "ax[2].imshow(a2[i], interpolation='nearest', cmap=cm.inferno)\n",
    "ax[3].imshow(a3[i], interpolation='nearest', cmap=cm.inferno)"
   ]
  },
  {
   "cell_type": "markdown",
   "id": "c99d754e",
   "metadata": {},
   "source": [
    "## Attention Gated"
   ]
  },
  {
   "cell_type": "markdown",
   "id": "3b2eaaa9",
   "metadata": {},
   "source": [
    "### Training"
   ]
  },
  {
   "cell_type": "code",
   "execution_count": null,
   "id": "1728ce33",
   "metadata": {},
   "outputs": [],
   "source": [
    "import AttentionModels"
   ]
  },
  {
   "cell_type": "code",
   "execution_count": null,
   "id": "31152749",
   "metadata": {},
   "outputs": [],
   "source": [
    "fit_model = AttentionModels.create_AttentionGated_ResNet50v2(input_shape=(224, 224, 3), num_classes=10)"
   ]
  },
  {
   "cell_type": "code",
   "execution_count": null,
   "id": "104b2a8e",
   "metadata": {},
   "outputs": [],
   "source": [
    "fit_model.fit(train_generator, epochs=50)"
   ]
  },
  {
   "cell_type": "code",
   "execution_count": null,
   "id": "e95ddea9",
   "metadata": {},
   "outputs": [],
   "source": [
    "fit_model.evaluate(test_generator)"
   ]
  },
  {
   "cell_type": "code",
   "execution_count": null,
   "id": "61c4599d",
   "metadata": {},
   "outputs": [],
   "source": [
    "fit_model.save(\"models/AttentionGated_ResNet50v2\")"
   ]
  },
  {
   "cell_type": "markdown",
   "id": "76295920",
   "metadata": {},
   "source": [
    "### Attention"
   ]
  },
  {
   "cell_type": "code",
   "execution_count": null,
   "id": "f757dbe3",
   "metadata": {},
   "outputs": [],
   "source": [
    "import matplotlib.pyplot as plt\n",
    "from matplotlib import cm\n",
    "\n",
    "extractor = AttentionModels.get_attention_extractor(fit_model)"
   ]
  },
  {
   "cell_type": "code",
   "execution_count": null,
   "id": "6d408fe8",
   "metadata": {},
   "outputs": [],
   "source": [
    "X, Y = next(test_generator)\n",
    "#X, Y = next(cifar100_helper_generator(x_test, y_test))\n",
    "prediction, a1, a2, a3 = extractor.predict(X)"
   ]
  },
  {
   "cell_type": "code",
   "execution_count": null,
   "id": "1eac75ae",
   "metadata": {},
   "outputs": [],
   "source": [
    "i = 19\n",
    "fig, ax = plt.subplots(1, 4, figsize=(20, 20))\n",
    "ax[0].imshow(X[i]/2 +0.5)\n",
    "ax[1].imshow(a1[i], interpolation='nearest', cmap=cm.inferno)\n",
    "ax[2].imshow(a2[i], interpolation='nearest', cmap=cm.inferno)\n",
    "ax[3].imshow(a3[i], interpolation='nearest', cmap=cm.inferno)"
   ]
  }
 ],
 "metadata": {
  "kernelspec": {
   "display_name": "Python 3 (ipykernel)",
   "language": "python",
   "name": "python3"
  },
  "language_info": {
   "codemirror_mode": {
    "name": "ipython",
    "version": 3
   },
   "file_extension": ".py",
   "mimetype": "text/x-python",
   "name": "python",
   "nbconvert_exporter": "python",
   "pygments_lexer": "ipython3",
   "version": "3.8.10"
  },
  "toc": {
   "base_numbering": 1,
   "nav_menu": {},
   "number_sections": true,
   "sideBar": true,
   "skip_h1_title": false,
   "title_cell": "Table of Contents",
   "title_sidebar": "Contents",
   "toc_cell": false,
   "toc_position": {
    "height": "calc(100% - 180px)",
    "left": "10px",
    "top": "150px",
    "width": "367px"
   },
   "toc_section_display": true,
   "toc_window_display": true
  },
  "varInspector": {
   "cols": {
    "lenName": 16,
    "lenType": 16,
    "lenVar": 40
   },
   "kernels_config": {
    "python": {
     "delete_cmd_postfix": "",
     "delete_cmd_prefix": "del ",
     "library": "var_list.py",
     "varRefreshCmd": "print(var_dic_list())"
    },
    "r": {
     "delete_cmd_postfix": ") ",
     "delete_cmd_prefix": "rm(",
     "library": "var_list.r",
     "varRefreshCmd": "cat(var_dic_list()) "
    }
   },
   "position": {
    "height": "499.85px",
    "left": "1542px",
    "right": "20px",
    "top": "120px",
    "width": "358px"
   },
   "types_to_exclude": [
    "module",
    "function",
    "builtin_function_or_method",
    "instance",
    "_Feature"
   ],
   "window_display": true
  }
 },
 "nbformat": 4,
 "nbformat_minor": 5
}
