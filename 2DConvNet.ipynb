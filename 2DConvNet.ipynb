{
 "cells": [
  {
   "cell_type": "code",
   "execution_count": null,
   "id": "748c901f",
   "metadata": {
    "ExecuteTime": {
     "end_time": "2021-06-28T21:59:49.295674Z",
     "start_time": "2021-06-28T21:59:45.882144Z"
    }
   },
   "outputs": [],
   "source": [
    "import tensorflow as tf\n",
    "from tensorflow.keras import Sequential\n",
    "import cv2\n",
    "import os.path\n",
    "import pandas as pd\n",
    "import numpy as np\n",
    "from tensorflow.keras import utils\n",
    "from sklearn.model_selection import train_test_split\n",
    "from tensorflow.keras.layers import Input, Dense, Conv2D, MaxPooling2D, Flatten\n",
    "from sklearn.preprocessing import LabelEncoder"
   ]
  },
  {
   "cell_type": "code",
   "execution_count": null,
   "id": "307d24c8",
   "metadata": {
    "ExecuteTime": {
     "end_time": "2021-06-28T21:59:49.343673Z",
     "start_time": "2021-06-28T21:59:49.329659Z"
    }
   },
   "outputs": [],
   "source": [
    "# default shape = (240, 320, 3)\n",
    "PROCESSED_IMAGE_HEIGHT = 120\n",
    "PROCESSED_IMAGE_WIDTH = 160"
   ]
  },
  {
   "cell_type": "code",
   "execution_count": null,
   "id": "1bc657bc",
   "metadata": {
    "ExecuteTime": {
     "end_time": "2021-06-28T21:59:49.391662Z",
     "start_time": "2021-06-28T21:59:49.378658Z"
    }
   },
   "outputs": [],
   "source": [
    "def evaluate_dataset(path):\n",
    "    dataset = pd.DataFrame()\n",
    "    for path, directories, files in os.walk(\"D:\\datasets\\hmdb51_org\"):\n",
    "        for f in files:\n",
    "            dataset = dataset.append(\n",
    "                {\"name\": f, \"path\": path + \"\\\\\" + f, \"category\": path.split(\"\\\\\")[-1]},\n",
    "                ignore_index=True\n",
    "            )\n",
    "    return dataset"
   ]
  },
  {
   "cell_type": "code",
   "execution_count": null,
   "id": "275bec76",
   "metadata": {
    "ExecuteTime": {
     "end_time": "2021-06-28T21:59:49.438675Z",
     "start_time": "2021-06-28T21:59:49.424662Z"
    }
   },
   "outputs": [],
   "source": [
    "def preprocess_image(image, width=PROCESSED_IMAGE_WIDTH, height=PROCESSED_IMAGE_HEIGHT):\n",
    "    # grayscale\n",
    "    image = cv2.cvtColor(image, cv2.COLOR_BGR2GRAY)\n",
    "    # resize\n",
    "    image = cv2.resize(image, (width, height,))\n",
    "    # reshape for keras\n",
    "    image = image.reshape((height, width, 1))\n",
    "    # normalize\n",
    "    image = image / 255.0\n",
    "    return image"
   ]
  },
  {
   "cell_type": "code",
   "execution_count": null,
   "id": "631d31af",
   "metadata": {
    "ExecuteTime": {
     "end_time": "2021-06-28T21:59:49.486673Z",
     "start_time": "2021-06-28T21:59:49.472662Z"
    }
   },
   "outputs": [],
   "source": [
    "def create_model(input_width=PROCESSED_IMAGE_WIDTH, input_height=PROCESSED_IMAGE_HEIGHT, num_classes=51):\n",
    "    model = Sequential()\n",
    "    model.add(Input((input_height, input_width, 1)))\n",
    "    \n",
    "    # TODO Conv layers?\n",
    "    model.add(Conv2D(32, kernel_size=(3, 3), activation=\"relu\"))\n",
    "    model.add(MaxPooling2D(pool_size=(2, 2)))\n",
    "    \n",
    "    # some Dense layers?\n",
    "    model.add(Flatten())\n",
    "    model.add(Dense(64, activation=\"relu\"))\n",
    "    model.add(Dense(32, activation=\"relu\"))\n",
    "    \n",
    "    # finish\n",
    "    model.add(Dense(num_classes, activation='softmax'))\n",
    "    model.compile(optimizer='adam', loss=\"categorical_crossentropy\")\n",
    "    return model"
   ]
  },
  {
   "cell_type": "code",
   "execution_count": null,
   "id": "e8f85b63",
   "metadata": {
    "ExecuteTime": {
     "end_time": "2021-06-28T21:59:49.534679Z",
     "start_time": "2021-06-28T21:59:49.520659Z"
    }
   },
   "outputs": [],
   "source": [
    "def get_formatted_video(path):\n",
    "    cap = cv2.VideoCapture(path)\n",
    "    video = []\n",
    "    retval, image = cap.read()\n",
    "    while retval:\n",
    "        image = preprocess_image(image)\n",
    "        video.append(image)\n",
    "        retval, image = cap.read()\n",
    "    cap.release()\n",
    "    return np.array(video)"
   ]
  },
  {
   "cell_type": "code",
   "execution_count": null,
   "id": "75814581",
   "metadata": {
    "ExecuteTime": {
     "end_time": "2021-06-28T21:59:49.723160Z",
     "start_time": "2021-06-28T21:59:49.712160Z"
    }
   },
   "outputs": [],
   "source": [
    "def train(model, X, y):\n",
    "    X_formatted = get_formatted_video(X)\n",
    "    y_formatted = np.array([y for i in range(X_formatted.shape[0])])\n",
    "    model.fit(x=X_formatted, y=y_formatted)"
   ]
  },
  {
   "cell_type": "code",
   "execution_count": null,
   "id": "bca3c335",
   "metadata": {
    "ExecuteTime": {
     "end_time": "2021-06-28T22:00:08.168628Z",
     "start_time": "2021-06-28T21:59:51.264716Z"
    }
   },
   "outputs": [],
   "source": [
    "dataset = evaluate_dataset(\"D:\\datasets\\hmdb51_org\")\n",
    "\n",
    "X_train, X_test, y_train, y_test = train_test_split(\n",
    "    dataset.path, \n",
    "    utils.to_categorical(LabelEncoder().fit_transform(dataset.category)))"
   ]
  },
  {
   "cell_type": "code",
   "execution_count": null,
   "id": "0b9336cc",
   "metadata": {
    "ExecuteTime": {
     "end_time": "2021-06-28T22:00:09.344875Z",
     "start_time": "2021-06-28T22:00:08.234382Z"
    }
   },
   "outputs": [],
   "source": [
    "model = create_model()"
   ]
  },
  {
   "cell_type": "code",
   "execution_count": null,
   "id": "a93d6113",
   "metadata": {
    "ExecuteTime": {
     "end_time": "2021-06-28T22:00:17.641311Z",
     "start_time": "2021-06-28T22:00:13.689114Z"
    }
   },
   "outputs": [],
   "source": [
    "for i in len(X_train):\n",
    "    train(model, X_train[i], y_train[i])"
   ]
  },
  {
   "cell_type": "code",
   "execution_count": null,
   "id": "b5450cc2",
   "metadata": {
    "ExecuteTime": {
     "end_time": "2021-06-28T22:00:09.600856Z",
     "start_time": "2021-06-28T22:00:09.394874Z"
    }
   },
   "outputs": [],
   "source": []
  }
 ],
 "metadata": {
  "kernelspec": {
   "display_name": "Python 3",
   "language": "python",
   "name": "python3"
  },
  "language_info": {
   "codemirror_mode": {
    "name": "ipython",
    "version": 3
   },
   "file_extension": ".py",
   "mimetype": "text/x-python",
   "name": "python",
   "nbconvert_exporter": "python",
   "pygments_lexer": "ipython3",
   "version": "3.8.10"
  },
  "toc": {
   "base_numbering": 1,
   "nav_menu": {},
   "number_sections": true,
   "sideBar": true,
   "skip_h1_title": false,
   "title_cell": "Table of Contents",
   "title_sidebar": "Contents",
   "toc_cell": false,
   "toc_position": {
    "height": "calc(100% - 180px)",
    "left": "10px",
    "top": "150px",
    "width": "384px"
   },
   "toc_section_display": true,
   "toc_window_display": true
  },
  "varInspector": {
   "cols": {
    "lenName": 16,
    "lenType": 16,
    "lenVar": 40
   },
   "kernels_config": {
    "python": {
     "delete_cmd_postfix": "",
     "delete_cmd_prefix": "del ",
     "library": "var_list.py",
     "varRefreshCmd": "print(var_dic_list())"
    },
    "r": {
     "delete_cmd_postfix": ") ",
     "delete_cmd_prefix": "rm(",
     "library": "var_list.r",
     "varRefreshCmd": "cat(var_dic_list()) "
    }
   },
   "position": {
    "height": "519.85px",
    "left": "1550px",
    "right": "20px",
    "top": "120px",
    "width": "350px"
   },
   "types_to_exclude": [
    "module",
    "function",
    "builtin_function_or_method",
    "instance",
    "_Feature"
   ],
   "window_display": true
  }
 },
 "nbformat": 4,
 "nbformat_minor": 5
}
