{
 "cells": [
  {
   "cell_type": "markdown",
   "id": "23a5c01f",
   "metadata": {},
   "source": [
    "# Calculate Model # of Parameters and FLOPS"
   ]
  },
  {
   "cell_type": "code",
   "execution_count": null,
   "id": "fa5dd725",
   "metadata": {},
   "outputs": [],
   "source": [
    "import tensorflow as tf\n",
    "from VCWA import AttentionModels, AttentionModelsResNet\n",
    "from keras_flops import get_flops"
   ]
  },
  {
   "cell_type": "markdown",
   "id": "1ee8e6fb",
   "metadata": {},
   "source": [
    "# ResNet50v2"
   ]
  },
  {
   "cell_type": "code",
   "execution_count": null,
   "id": "267dd91d",
   "metadata": {},
   "outputs": [],
   "source": [
    "model = tf.keras.applications.ResNet50V2(classes=100, weights=None)\n",
    "model.summary()\n",
    "get_flops(model, batch_size=1)"
   ]
  },
  {
   "cell_type": "code",
   "execution_count": null,
   "id": "3bb7ef64",
   "metadata": {},
   "outputs": [],
   "source": [
    "model = AttentionModelsResNet.create_L2PA_ResNet50v2(classes=100)\n",
    "model.summary()\n",
    "get_flops(model, batch_size=1)"
   ]
  },
  {
   "cell_type": "code",
   "execution_count": null,
   "id": "5d7a4df0",
   "metadata": {},
   "outputs": [],
   "source": [
    "model = AttentionModelsResNet.create_AttentionGated_ResNet50v2(classes=100)\n",
    "model.summary()\n",
    "get_flops(model, batch_size=1)"
   ]
  },
  {
   "cell_type": "code",
   "execution_count": null,
   "id": "9068df2d",
   "metadata": {},
   "outputs": [],
   "source": [
    "model = AttentionModelsResNet.create_AttentionGatedGrid_ResNet50v2(classes=100)\n",
    "model.summary()\n",
    "get_flops(model, batch_size=1)"
   ]
  },
  {
   "cell_type": "code",
   "execution_count": null,
   "id": "d2f519b0",
   "metadata": {},
   "outputs": [],
   "source": [
    "model = AttentionModelsResNet.create_ResidualAttention_ResNet50v2(classes=100)\n",
    "model.summary()\n",
    "get_flops(model, batch_size=1)"
   ]
  },
  {
   "cell_type": "code",
   "execution_count": null,
   "id": "565892d7",
   "metadata": {},
   "outputs": [],
   "source": [
    "model = AttentionModelsResNet.create_CBAM_ResNet50v2(classes=100)\n",
    "model.summary()\n",
    "get_flops(model, batch_size=1)"
   ]
  },
  {
   "cell_type": "markdown",
   "id": "a1358811",
   "metadata": {},
   "source": [
    "# MobileNet"
   ]
  },
  {
   "cell_type": "code",
   "execution_count": null,
   "id": "f2682e22",
   "metadata": {},
   "outputs": [],
   "source": [
    "model = tf.keras.applications.MobileNetV2(classes=100, weights=None)\n",
    "model.summary()\n",
    "model.summary()\n",
    "get_flops(model, batch_size=1)"
   ]
  },
  {
   "cell_type": "code",
   "execution_count": null,
   "id": "fcd12a6f",
   "metadata": {},
   "outputs": [],
   "source": [
    "model = AttentionModels.create_L2PA_MobileNetV2(classes=100)\n",
    "get_flops(model, batch_size=1)"
   ]
  },
  {
   "cell_type": "code",
   "execution_count": null,
   "id": "aa354ddd",
   "metadata": {},
   "outputs": [],
   "source": [
    "model = AttentionModels.create_AttentionGated_MobileNetV2(classes=100)\n",
    "model.summary()\n",
    "get_flops(model, batch_size=1)"
   ]
  },
  {
   "cell_type": "code",
   "execution_count": null,
   "id": "f3ffdef3",
   "metadata": {},
   "outputs": [],
   "source": [
    "model = AttentionModels.create_AttentionGatedGrid_MobileNetV2(classes=100)\n",
    "model.summary()\n",
    "get_flops(model, batch_size=1)"
   ]
  },
  {
   "cell_type": "code",
   "execution_count": null,
   "id": "25619269",
   "metadata": {},
   "outputs": [],
   "source": [
    "model = AttentionModels.create_ResidualAttention_MobileNetV2(classes=100)\n",
    "model.summary()\n",
    "get_flops(model, batch_size=1)"
   ]
  },
  {
   "cell_type": "code",
   "execution_count": null,
   "id": "38a7880d",
   "metadata": {},
   "outputs": [],
   "source": [
    "model = AttentionModels.create_CBAM_MobileNetV2(classes=100)\n",
    "model.summary()\n",
    "get_flops(model, batch_size=1)"
   ]
  }
 ],
 "metadata": {
  "kernelspec": {
   "display_name": "Python 3 (ipykernel)",
   "language": "python",
   "name": "python3"
  },
  "language_info": {
   "codemirror_mode": {
    "name": "ipython",
    "version": 3
   },
   "file_extension": ".py",
   "mimetype": "text/x-python",
   "name": "python",
   "nbconvert_exporter": "python",
   "pygments_lexer": "ipython3",
   "version": "3.8.12"
  },
  "toc": {
   "base_numbering": 1,
   "nav_menu": {},
   "number_sections": true,
   "sideBar": true,
   "skip_h1_title": false,
   "title_cell": "Table of Contents",
   "title_sidebar": "Contents",
   "toc_cell": false,
   "toc_position": {},
   "toc_section_display": true,
   "toc_window_display": false
  },
  "varInspector": {
   "cols": {
    "lenName": 16,
    "lenType": 16,
    "lenVar": 40
   },
   "kernels_config": {
    "python": {
     "delete_cmd_postfix": "",
     "delete_cmd_prefix": "del ",
     "library": "var_list.py",
     "varRefreshCmd": "print(var_dic_list())"
    },
    "r": {
     "delete_cmd_postfix": ") ",
     "delete_cmd_prefix": "rm(",
     "library": "var_list.r",
     "varRefreshCmd": "cat(var_dic_list()) "
    }
   },
   "types_to_exclude": [
    "module",
    "function",
    "builtin_function_or_method",
    "instance",
    "_Feature"
   ],
   "window_display": false
  }
 },
 "nbformat": 4,
 "nbformat_minor": 5
}
