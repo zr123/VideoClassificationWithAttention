{
 "cells": [
  {
   "cell_type": "code",
   "execution_count": null,
   "id": "748c901f",
   "metadata": {},
   "outputs": [],
   "source": [
    "import tensorflow as tf\n",
    "from tensorflow.keras import Sequential\n",
    "import cv2\n",
    "import os.path\n",
    "import pandas as pd\n",
    "import numpy as np\n",
    "from tensorflow.keras import utils\n",
    "from sklearn.model_selection import train_test_split\n",
    "from tensorflow.keras.layers import Input, Dense, Conv3D, MaxPooling3D, Flatten, Dropout\n",
    "from sklearn.preprocessing import LabelEncoder\n",
    "from tensorflow import keras\n",
    "\n",
    "%load_ext tensorboard"
   ]
  },
  {
   "cell_type": "code",
   "execution_count": null,
   "id": "307d24c8",
   "metadata": {},
   "outputs": [],
   "source": [
    "PROCESSED_IMAGE_HEIGHT = 128\n",
    "PROCESSED_IMAGE_WIDTH = 128\n",
    "DOWNSAMPLING_FRAMES = 40.0"
   ]
  },
  {
   "cell_type": "markdown",
   "id": "d44d2d16",
   "metadata": {},
   "source": [
    "## Functions"
   ]
  },
  {
   "cell_type": "code",
   "execution_count": null,
   "id": "1bc657bc",
   "metadata": {},
   "outputs": [],
   "source": [
    "def evaluate_dataset(path=\"D:\\datasets\\hmdb51_org\"):\n",
    "    paths = []\n",
    "    categories = []\n",
    "    for path, directories, files in os.walk(path):\n",
    "        for f in files:\n",
    "            paths.append(path + \"\\\\\" + f)\n",
    "            categories.append(path.split(\"\\\\\")[-1])\n",
    "    return paths, categories"
   ]
  },
  {
   "cell_type": "code",
   "execution_count": null,
   "id": "4ead2a31",
   "metadata": {},
   "outputs": [],
   "source": [
    "def downsample_video(video, frames = DOWNSAMPLING_FRAMES):\n",
    "    framecount = video.shape[0]\n",
    "    sampled_frames = np.arange(0, framecount, framecount / frames)\n",
    "    downsampled_video = [video[int(f)] for f in sampled_frames]\n",
    "    return np.array(downsampled_video)"
   ]
  },
  {
   "cell_type": "code",
   "execution_count": null,
   "id": "275bec76",
   "metadata": {},
   "outputs": [],
   "source": [
    "def preprocess_image(image, width=PROCESSED_IMAGE_WIDTH, height=PROCESSED_IMAGE_HEIGHT):\n",
    "    # grayscale\n",
    "    image = cv2.cvtColor(image, cv2.COLOR_BGR2GRAY)\n",
    "    # resize\n",
    "    image = cv2.resize(image, (width, height,))\n",
    "    # reshape for keras\n",
    "    image = image.reshape((height, width, 1))\n",
    "    # normalize\n",
    "    image = image / 255.0\n",
    "    return np.float32(image)"
   ]
  },
  {
   "cell_type": "code",
   "execution_count": null,
   "id": "e8f85b63",
   "metadata": {},
   "outputs": [],
   "source": [
    "def get_formatted_video(path):\n",
    "    cap = cv2.VideoCapture(path)\n",
    "    video = []\n",
    "    retval, image = cap.read()\n",
    "    while retval:\n",
    "        image = preprocess_image(image)\n",
    "        video.append(image)\n",
    "        retval, image = cap.read()\n",
    "    cap.release()\n",
    "    video = downsample_video(np.array(video))\n",
    "    return video"
   ]
  },
  {
   "cell_type": "code",
   "execution_count": null,
   "id": "e8503648",
   "metadata": {},
   "outputs": [],
   "source": [
    "def inflate_target(y, batch_size=16):\n",
    "    return np.array([y for i in range(batch_size)])"
   ]
  },
  {
   "cell_type": "code",
   "execution_count": null,
   "id": "9952876c",
   "metadata": {},
   "outputs": [],
   "source": [
    "def prepare_training_input(input_path, target):\n",
    "    formatted_input = get_formatted_video(input_path)\n",
    "    formatted_target = inflate_target(target, formatted_input.shape[0])\n",
    "    return formatted_input, formatted_target"
   ]
  },
  {
   "cell_type": "code",
   "execution_count": null,
   "id": "29d5c90b",
   "metadata": {},
   "outputs": [],
   "source": [
    "def create_batch(X_paths, y, batch_size=16):\n",
    "    for i in range(0, len(X_paths), batch_size):\n",
    "        X_batch = []\n",
    "        y_batch = []\n",
    "        for b in range(i, i+batch_size):\n",
    "            if b == len(X_paths):\n",
    "                break\n",
    "            X_batch.append(get_formatted_video(X_paths[b]))\n",
    "            y_batch.append(y[b])\n",
    "\n",
    "        yield (np.array(X_batch), np.vstack(y_batch))"
   ]
  },
  {
   "cell_type": "code",
   "execution_count": null,
   "id": "9bd1de6b",
   "metadata": {},
   "outputs": [],
   "source": [
    "def create_model(input_width=PROCESSED_IMAGE_WIDTH, input_height=PROCESSED_IMAGE_HEIGHT, num_classes=51):\n",
    "    model = Sequential()\n",
    "    model.add(Input((int(DOWNSAMPLING_FRAMES), input_height, input_width, 1)))\n",
    "    \n",
    "    # TODO Conv layers?\n",
    "    model.add(Conv3D(32, 3, activation=\"relu\"))\n",
    "    model.add(MaxPooling3D())\n",
    "    model.add(Conv3D(32, 3, activation=\"relu\"))\n",
    "    model.add(MaxPooling3D())\n",
    "    model.add(Conv3D(32, 3, activation=\"relu\"))\n",
    "    model.add(MaxPooling3D())\n",
    "    \n",
    "    # some Dense layers?\n",
    "    model.add(Flatten())\n",
    "    model.add(Dense(64, activation=\"relu\"))\n",
    "    model.add(Dense(32, activation=\"relu\"))\n",
    "    \n",
    "    # finish\n",
    "    model.add(Dense(num_classes, activation='softmax'))\n",
    "    model.compile(\n",
    "        optimizer='adam', \n",
    "        loss=\"categorical_crossentropy\",\n",
    "        metrics=[keras.metrics.Accuracy(), keras.metrics.TopKCategoricalAccuracy(5)])\n",
    "    return model\n",
    "\n",
    "create_model().summary()"
   ]
  },
  {
   "cell_type": "markdown",
   "id": "af37f1fc",
   "metadata": {},
   "source": [
    "## Train"
   ]
  },
  {
   "cell_type": "code",
   "execution_count": null,
   "id": "bca3c335",
   "metadata": {},
   "outputs": [],
   "source": [
    "X, y = evaluate_dataset(\"D:\\datasets\\hmdb51_org\")\n",
    "\n",
    "X_train, X_test, y_train, y_test = train_test_split(X, utils.to_categorical(LabelEncoder().fit_transform(y)), random_state=42)"
   ]
  },
  {
   "cell_type": "code",
   "execution_count": null,
   "id": "0b9336cc",
   "metadata": {},
   "outputs": [],
   "source": [
    "# model = create_model()\n",
    "model = keras.models.load_model(\"model\")"
   ]
  },
  {
   "cell_type": "code",
   "execution_count": null,
   "id": "3a2d523c",
   "metadata": {},
   "outputs": [],
   "source": [
    "# keras.utils.plot_model(model, show_shapes=True)"
   ]
  },
  {
   "cell_type": "code",
   "execution_count": null,
   "id": "639852d0",
   "metadata": {},
   "outputs": [],
   "source": [
    "import datetime\n",
    "log_dir = \"logs/fit/\" + datetime.datetime.now().strftime(\"%Y%m%d-%H%M%S\")\n",
    "tensorboard_callback = tf.keras.callbacks.TensorBoard(log_dir=log_dir, histogram_freq=1)"
   ]
  },
  {
   "cell_type": "code",
   "execution_count": null,
   "id": "51606c4f",
   "metadata": {},
   "outputs": [],
   "source": [
    "for i in range(200):\n",
    "    model.fit(create_batch(X_train, y_train, batch_size=8),\n",
    "              use_multiprocessing = True,\n",
    "              workers=4,\n",
    "              validation_data = create_batch(X_test, y_test, batch_size=8),\n",
    "              validation_freq = 10,\n",
    "              max_queue_size = 20,\n",
    "              callbacks=[tensorboard_callback] )"
   ]
  },
  {
   "cell_type": "code",
   "execution_count": null,
   "id": "28595b50",
   "metadata": {},
   "outputs": [],
   "source": [
    "%tensorboard --logdir logs/fit --port 8088 --host localhost"
   ]
  },
  {
   "cell_type": "code",
   "execution_count": null,
   "id": "0dddc51e",
   "metadata": {},
   "outputs": [],
   "source": [
    "model.evaluate(create_batch(X_test, y_test, batch_size=8))"
   ]
  },
  {
   "cell_type": "code",
   "execution_count": null,
   "id": "d9f4ded2",
   "metadata": {},
   "outputs": [],
   "source": [
    "model.summary()"
   ]
  },
  {
   "cell_type": "code",
   "execution_count": null,
   "id": "c8a238c7",
   "metadata": {},
   "outputs": [],
   "source": [
    "model.save(\"model\")"
   ]
  },
  {
   "cell_type": "markdown",
   "id": "331e81d9",
   "metadata": {},
   "source": [
    "## Spielweise / Testgelände"
   ]
  },
  {
   "cell_type": "code",
   "execution_count": null,
   "id": "ac79e66e",
   "metadata": {},
   "outputs": [],
   "source": []
  }
 ],
 "metadata": {
  "kernelspec": {
   "display_name": "Python 3",
   "language": "python",
   "name": "python3"
  },
  "language_info": {
   "codemirror_mode": {
    "name": "ipython",
    "version": 3
   },
   "file_extension": ".py",
   "mimetype": "text/x-python",
   "name": "python",
   "nbconvert_exporter": "python",
   "pygments_lexer": "ipython3",
   "version": "3.8.10"
  },
  "toc": {
   "base_numbering": 1,
   "nav_menu": {},
   "number_sections": true,
   "sideBar": true,
   "skip_h1_title": false,
   "title_cell": "Table of Contents",
   "title_sidebar": "Contents",
   "toc_cell": false,
   "toc_position": {
    "height": "calc(100% - 180px)",
    "left": "10px",
    "top": "150px",
    "width": "384px"
   },
   "toc_section_display": true,
   "toc_window_display": true
  },
  "varInspector": {
   "cols": {
    "lenName": 16,
    "lenType": 16,
    "lenVar": 40
   },
   "kernels_config": {
    "python": {
     "delete_cmd_postfix": "",
     "delete_cmd_prefix": "del ",
     "library": "var_list.py",
     "varRefreshCmd": "print(var_dic_list())"
    },
    "r": {
     "delete_cmd_postfix": ") ",
     "delete_cmd_prefix": "rm(",
     "library": "var_list.r",
     "varRefreshCmd": "cat(var_dic_list()) "
    }
   },
   "position": {
    "height": "519.85px",
    "left": "1550px",
    "right": "20px",
    "top": "120px",
    "width": "350px"
   },
   "types_to_exclude": [
    "module",
    "function",
    "builtin_function_or_method",
    "instance",
    "_Feature"
   ],
   "window_display": true
  }
 },
 "nbformat": 4,
 "nbformat_minor": 5
}
